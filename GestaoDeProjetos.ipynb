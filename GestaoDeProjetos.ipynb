{
  "cells": [
    {
      "cell_type": "markdown",
      "source": [
        "## Atividade Gestão de Projeto\n",
        "\n",
        "Lucas Rodrigues Lopes // RA00298509"
      ],
      "metadata": {}
    },
    {
      "cell_type": "code",
      "source": [
        "#1) Bibliotecas\n",
        "\n",
        "import pandas as pd\n",
        "import numpy as np\n",
        "import matplotlib.pyplot as plt"
      ],
      "outputs": [],
      "execution_count": 86,
      "metadata": {}
    },
    {
      "cell_type": "code",
      "source": [
        "#2) Criando variaveis para guardar os data frames\n",
        "cronograma = pd.read_excel('cronograma.xlsx')\n",
        "display(cronograma)\n",
        "\n",
        "custo_hora = pd.read_excel('custohora.xlsx')\n",
        "display(custo_hora)"
      ],
      "outputs": [
        {
          "output_type": "display_data",
          "data": {
            "text/html": "<div>\n<style scoped>\n    .dataframe tbody tr th:only-of-type {\n        vertical-align: middle;\n    }\n\n    .dataframe tbody tr th {\n        vertical-align: top;\n    }\n\n    .dataframe thead th {\n        text-align: right;\n    }\n</style>\n<table border=\"1\" class=\"dataframe\">\n  <thead>\n    <tr style=\"text-align: right;\">\n      <th></th>\n      <th>Atividade</th>\n      <th>Responsável</th>\n      <th>S1</th>\n      <th>S2</th>\n      <th>S3</th>\n      <th>S4</th>\n      <th>S5</th>\n      <th>S6</th>\n      <th>S7</th>\n      <th>S8</th>\n    </tr>\n  </thead>\n  <tbody>\n    <tr>\n      <th>0</th>\n      <td>1</td>\n      <td>A</td>\n      <td>12.0</td>\n      <td>12.0</td>\n      <td>12.0</td>\n      <td>12.0</td>\n      <td>12</td>\n      <td>12.0</td>\n      <td>12.0</td>\n      <td>12.0</td>\n    </tr>\n    <tr>\n      <th>1</th>\n      <td>2</td>\n      <td>B</td>\n      <td>NaN</td>\n      <td>4.0</td>\n      <td>4.0</td>\n      <td>4.0</td>\n      <td>4</td>\n      <td>4.0</td>\n      <td>4.0</td>\n      <td>4.0</td>\n    </tr>\n    <tr>\n      <th>2</th>\n      <td>3</td>\n      <td>C</td>\n      <td>NaN</td>\n      <td>6.0</td>\n      <td>6.0</td>\n      <td>6.0</td>\n      <td>6</td>\n      <td>NaN</td>\n      <td>NaN</td>\n      <td>NaN</td>\n    </tr>\n    <tr>\n      <th>3</th>\n      <td>4</td>\n      <td>C</td>\n      <td>NaN</td>\n      <td>NaN</td>\n      <td>12.0</td>\n      <td>12.0</td>\n      <td>12</td>\n      <td>12.0</td>\n      <td>NaN</td>\n      <td>NaN</td>\n    </tr>\n    <tr>\n      <th>4</th>\n      <td>5</td>\n      <td>G</td>\n      <td>NaN</td>\n      <td>NaN</td>\n      <td>NaN</td>\n      <td>8.0</td>\n      <td>8</td>\n      <td>8.0</td>\n      <td>NaN</td>\n      <td>NaN</td>\n    </tr>\n    <tr>\n      <th>5</th>\n      <td>6</td>\n      <td>F</td>\n      <td>NaN</td>\n      <td>NaN</td>\n      <td>NaN</td>\n      <td>12.0</td>\n      <td>12</td>\n      <td>12.0</td>\n      <td>NaN</td>\n      <td>NaN</td>\n    </tr>\n    <tr>\n      <th>6</th>\n      <td>7</td>\n      <td>B</td>\n      <td>NaN</td>\n      <td>NaN</td>\n      <td>NaN</td>\n      <td>8.0</td>\n      <td>8</td>\n      <td>8.0</td>\n      <td>8.0</td>\n      <td>NaN</td>\n    </tr>\n    <tr>\n      <th>7</th>\n      <td>8</td>\n      <td>G</td>\n      <td>NaN</td>\n      <td>NaN</td>\n      <td>NaN</td>\n      <td>12.0</td>\n      <td>12</td>\n      <td>12.0</td>\n      <td>12.0</td>\n      <td>12.0</td>\n    </tr>\n    <tr>\n      <th>8</th>\n      <td>9</td>\n      <td>C</td>\n      <td>NaN</td>\n      <td>NaN</td>\n      <td>NaN</td>\n      <td>8.0</td>\n      <td>8</td>\n      <td>8.0</td>\n      <td>8.0</td>\n      <td>8.0</td>\n    </tr>\n    <tr>\n      <th>9</th>\n      <td>10</td>\n      <td>B</td>\n      <td>NaN</td>\n      <td>NaN</td>\n      <td>NaN</td>\n      <td>NaN</td>\n      <td>8</td>\n      <td>8.0</td>\n      <td>8.0</td>\n      <td>8.0</td>\n    </tr>\n  </tbody>\n</table>\n</div>",
            "text/plain": "   Atividade Responsável    S1    S2    S3    S4  S5    S6    S7    S8\n0          1           A  12.0  12.0  12.0  12.0  12  12.0  12.0  12.0\n1          2           B   NaN   4.0   4.0   4.0   4   4.0   4.0   4.0\n2          3           C   NaN   6.0   6.0   6.0   6   NaN   NaN   NaN\n3          4           C   NaN   NaN  12.0  12.0  12  12.0   NaN   NaN\n4          5           G   NaN   NaN   NaN   8.0   8   8.0   NaN   NaN\n5          6           F   NaN   NaN   NaN  12.0  12  12.0   NaN   NaN\n6          7           B   NaN   NaN   NaN   8.0   8   8.0   8.0   NaN\n7          8           G   NaN   NaN   NaN  12.0  12  12.0  12.0  12.0\n8          9           C   NaN   NaN   NaN   8.0   8   8.0   8.0   8.0\n9         10           B   NaN   NaN   NaN   NaN   8   8.0   8.0   8.0"
          },
          "metadata": {}
        },
        {
          "output_type": "display_data",
          "data": {
            "text/html": "<div>\n<style scoped>\n    .dataframe tbody tr th:only-of-type {\n        vertical-align: middle;\n    }\n\n    .dataframe tbody tr th {\n        vertical-align: top;\n    }\n\n    .dataframe thead th {\n        text-align: right;\n    }\n</style>\n<table border=\"1\" class=\"dataframe\">\n  <thead>\n    <tr style=\"text-align: right;\">\n      <th></th>\n      <th>Profissional</th>\n      <th>Custo</th>\n    </tr>\n  </thead>\n  <tbody>\n    <tr>\n      <th>0</th>\n      <td>A</td>\n      <td>180</td>\n    </tr>\n    <tr>\n      <th>1</th>\n      <td>B</td>\n      <td>120</td>\n    </tr>\n    <tr>\n      <th>2</th>\n      <td>C</td>\n      <td>100</td>\n    </tr>\n    <tr>\n      <th>3</th>\n      <td>D</td>\n      <td>100</td>\n    </tr>\n    <tr>\n      <th>4</th>\n      <td>E</td>\n      <td>80</td>\n    </tr>\n    <tr>\n      <th>5</th>\n      <td>F</td>\n      <td>80</td>\n    </tr>\n    <tr>\n      <th>6</th>\n      <td>G</td>\n      <td>80</td>\n    </tr>\n  </tbody>\n</table>\n</div>",
            "text/plain": "  Profissional  Custo\n0            A    180\n1            B    120\n2            C    100\n3            D    100\n4            E     80\n5            F     80\n6            G     80"
          },
          "metadata": {}
        }
      ],
      "execution_count": 87,
      "metadata": {}
    },
    {
      "cell_type": "code",
      "source": [
        "#3) Quantidade de horas totais por semana\n",
        "\n",
        "tabela_semanal = cronograma[['S1', 'S2', 'S3', 'S4', 'S5', 'S6', 'S7', 'S8']]\n",
        "tabela_semanal = tabela_semanal.iloc[0:0]\n",
        "\n",
        "lista_resultado = []\n",
        "# Iterar sobre as colunas de interesse\n",
        "for coluna in ['S1', 'S2', 'S3', 'S4', 'S5', 'S6', 'S7', 'S8']:\n",
        "    # Somar os valores da coluna atual\n",
        "    somatorio = cronograma[coluna].sum()\n",
        "    lista_resultado.append(somatorio)\n",
        "\n",
        "# Criar um DataFrame a partir da lista_resultado\n",
        "resultado_df = pd.DataFrame([lista_resultado], columns=['S1', 'S2', 'S3', 'S4', 'S5', 'S6', 'S7', 'S8'])\n",
        "\n",
        "# Concatenar tabela_semanal com resultado_df\n",
        "tabela_semanal = pd.concat([tabela_semanal, resultado_df], ignore_index=False)\n",
        "display(tabela_semanal)"
      ],
      "outputs": [
        {
          "output_type": "display_data",
          "data": {
            "text/html": "<div>\n<style scoped>\n    .dataframe tbody tr th:only-of-type {\n        vertical-align: middle;\n    }\n\n    .dataframe tbody tr th {\n        vertical-align: top;\n    }\n\n    .dataframe thead th {\n        text-align: right;\n    }\n</style>\n<table border=\"1\" class=\"dataframe\">\n  <thead>\n    <tr style=\"text-align: right;\">\n      <th></th>\n      <th>S1</th>\n      <th>S2</th>\n      <th>S3</th>\n      <th>S4</th>\n      <th>S5</th>\n      <th>S6</th>\n      <th>S7</th>\n      <th>S8</th>\n    </tr>\n  </thead>\n  <tbody>\n    <tr>\n      <th>0</th>\n      <td>12.0</td>\n      <td>22.0</td>\n      <td>34.0</td>\n      <td>82.0</td>\n      <td>90</td>\n      <td>84.0</td>\n      <td>52.0</td>\n      <td>44.0</td>\n    </tr>\n  </tbody>\n</table>\n</div>",
            "text/plain": "     S1    S2    S3    S4  S5    S6    S7    S8\n0  12.0  22.0  34.0  82.0  90  84.0  52.0  44.0"
          },
          "metadata": {}
        }
      ],
      "execution_count": 88,
      "metadata": {}
    },
    {
      "cell_type": "code",
      "source": [
        "#4) Quantidade de horas por funcionário\n",
        "\n",
        "# Para armazenar a contagem de horas por funcionário\n",
        "contagem_horas = {}\n",
        "\n",
        "# Iterar sobre os responsáveis únicos\n",
        "for responsavel in cronograma['Responsável'].unique():\n",
        "    # Filtrar o DataFrame para o responsável atual e somar as horas\n",
        "    total_horas = cronograma.loc[cronograma['Responsável'] == responsavel, 'S1':'S8'].sum().sum()\n",
        "    # Armazenar o total de horas no dicionário\n",
        "    contagem_horas[responsavel] = total_horas\n",
        "    \n",
        "horas_funcionario = pd.DataFrame.from_dict(contagem_horas, orient='index', columns=['Horas'])\n",
        "horas_funcionario = horas_funcionario.reset_index()\n",
        "horas_funcionario = horas_funcionario.rename(columns={\"index\": \"Profissional\"})\n",
        "display(horas_funcionario)\n",
        "\n",
        "for index, row in horas_funcionario.iterrows():\n",
        "    profissional = row['Profissional']\n",
        "    horas = row['Horas']\n",
        "    print(f'Funcionário {profissional} tem {horas} horas')"
      ],
      "outputs": [
        {
          "output_type": "display_data",
          "data": {
            "text/html": "<div>\n<style scoped>\n    .dataframe tbody tr th:only-of-type {\n        vertical-align: middle;\n    }\n\n    .dataframe tbody tr th {\n        vertical-align: top;\n    }\n\n    .dataframe thead th {\n        text-align: right;\n    }\n</style>\n<table border=\"1\" class=\"dataframe\">\n  <thead>\n    <tr style=\"text-align: right;\">\n      <th></th>\n      <th>Profissional</th>\n      <th>Horas</th>\n    </tr>\n  </thead>\n  <tbody>\n    <tr>\n      <th>0</th>\n      <td>A</td>\n      <td>96.0</td>\n    </tr>\n    <tr>\n      <th>1</th>\n      <td>B</td>\n      <td>92.0</td>\n    </tr>\n    <tr>\n      <th>2</th>\n      <td>C</td>\n      <td>112.0</td>\n    </tr>\n    <tr>\n      <th>3</th>\n      <td>G</td>\n      <td>84.0</td>\n    </tr>\n    <tr>\n      <th>4</th>\n      <td>F</td>\n      <td>36.0</td>\n    </tr>\n  </tbody>\n</table>\n</div>",
            "text/plain": "  Profissional  Horas\n0            A   96.0\n1            B   92.0\n2            C  112.0\n3            G   84.0\n4            F   36.0"
          },
          "metadata": {}
        },
        {
          "output_type": "stream",
          "name": "stdout",
          "text": "Funcionário A tem 96.0 horas\nFuncionário B tem 92.0 horas\nFuncionário C tem 112.0 horas\nFuncionário G tem 84.0 horas\nFuncionário F tem 36.0 horas\n"
        }
      ],
      "execution_count": 99,
      "metadata": {}
    },
    {
      "cell_type": "code",
      "source": [
        "#5) Total de horas do projeto\n",
        "\n",
        "horas_total = horas_funcionario['Horas'].sum()\n",
        "\n",
        "print(f'O número de horas totais é de {horas_total}')"
      ],
      "outputs": [
        {
          "output_type": "stream",
          "name": "stdout",
          "text": "O número de horas totais é de 420.0\n"
        }
      ],
      "execution_count": 91,
      "metadata": {}
    },
    {
      "cell_type": "code",
      "source": [
        "#6) Custo de mão de obra do projeto\n",
        "\n",
        "mao_de_obra = pd.merge(custo_hora, horas_funcionario, on='Profissional', how='left')\n",
        "\n",
        "# Calcular o custo da mão de obra (MDO) para cada profissional\n",
        "mao_de_obra['Custo MDO'] = mao_de_obra['Custo'] * mao_de_obra['Horas']\n",
        "display(mao_de_obra)\n",
        "\n",
        "mao_de_obra_total = mao_de_obra['Custo MDO'].sum()\n",
        "print(f'O custo de mão de obra total é de R${mao_de_obra_total:,.2f}')"
      ],
      "outputs": [
        {
          "output_type": "display_data",
          "data": {
            "text/html": "<div>\n<style scoped>\n    .dataframe tbody tr th:only-of-type {\n        vertical-align: middle;\n    }\n\n    .dataframe tbody tr th {\n        vertical-align: top;\n    }\n\n    .dataframe thead th {\n        text-align: right;\n    }\n</style>\n<table border=\"1\" class=\"dataframe\">\n  <thead>\n    <tr style=\"text-align: right;\">\n      <th></th>\n      <th>Profissional</th>\n      <th>Custo</th>\n      <th>Horas</th>\n      <th>Custo MDO</th>\n    </tr>\n  </thead>\n  <tbody>\n    <tr>\n      <th>0</th>\n      <td>A</td>\n      <td>180</td>\n      <td>96.0</td>\n      <td>17280.0</td>\n    </tr>\n    <tr>\n      <th>1</th>\n      <td>B</td>\n      <td>120</td>\n      <td>92.0</td>\n      <td>11040.0</td>\n    </tr>\n    <tr>\n      <th>2</th>\n      <td>C</td>\n      <td>100</td>\n      <td>112.0</td>\n      <td>11200.0</td>\n    </tr>\n    <tr>\n      <th>3</th>\n      <td>D</td>\n      <td>100</td>\n      <td>NaN</td>\n      <td>NaN</td>\n    </tr>\n    <tr>\n      <th>4</th>\n      <td>E</td>\n      <td>80</td>\n      <td>NaN</td>\n      <td>NaN</td>\n    </tr>\n    <tr>\n      <th>5</th>\n      <td>F</td>\n      <td>80</td>\n      <td>36.0</td>\n      <td>2880.0</td>\n    </tr>\n    <tr>\n      <th>6</th>\n      <td>G</td>\n      <td>80</td>\n      <td>84.0</td>\n      <td>6720.0</td>\n    </tr>\n  </tbody>\n</table>\n</div>",
            "text/plain": "  Profissional  Custo  Horas  Custo MDO\n0            A    180   96.0    17280.0\n1            B    120   92.0    11040.0\n2            C    100  112.0    11200.0\n3            D    100    NaN        NaN\n4            E     80    NaN        NaN\n5            F     80   36.0     2880.0\n6            G     80   84.0     6720.0"
          },
          "metadata": {}
        },
        {
          "output_type": "stream",
          "name": "stdout",
          "text": "O custo de mão de obra total é de R$49,120.00\n"
        }
      ],
      "execution_count": 92,
      "metadata": {}
    },
    {
      "cell_type": "code",
      "source": [
        "#7) Histograma dos totais + Horas semanais\n",
        "\n",
        "# Transpor os dados para ter duas colunas\n",
        "tabela_transposta = tabela_semanal.melt(var_name='Semana', value_name='Horas')\n",
        "# Exibir o DataFrame resultante\n",
        "# display(tabela_transposta)\n",
        "\n",
        "# Criar o histograma\n",
        "plt.figure(figsize=(10, 6))\n",
        "#                   x                           y\n",
        "plt.bar(tabela_transposta['Semana'], tabela_transposta['Horas'], color='darkblue', edgecolor='black')\n",
        "\n",
        "# Adicionar título e rótulos\n",
        "plt.title('Horas Trabalhadas por Semana')\n",
        "plt.xlabel('Semana')\n",
        "plt.ylabel('Horas')\n",
        "\n",
        "# Exibir o gráfico\n",
        "plt.show()"
      ],
      "outputs": [
        {
          "output_type": "display_data",
          "data": {
            "image/png": "[encoded data removed]",
            "text/plain": "<Figure size 1000x600 with 1 Axes>"
          },
          "metadata": {}
        }
      ],
      "execution_count": 97,
      "metadata": {}
    }
  ],
  "metadata": {
    "kernelspec": {
      "name": "python",
      "language": "python",
      "display_name": "Pyolite (preview)"
    },
    "language_info": {
      "codemirror_mode": {
        "name": "python",
        "version": 3
      },
      "file_extension": ".py",
      "mimetype": "text/x-python",
      "name": "python",
      "nbconvert_exporter": "python",
      "pygments_lexer": "ipython3",
      "version": "3.8"
    },
    "nteract": {
      "version": "nteract-front-end@1.0.0"
    },
    "kernel_info": {
      "name": "python"
    }
  },
  "nbformat": 4,
  "nbformat_minor": 2
}